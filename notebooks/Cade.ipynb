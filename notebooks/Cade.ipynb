{
  "nbformat": 4,
  "nbformat_minor": 0,
  "metadata": {
    "colab": {
      "name": "Cade.ipynb",
      "provenance": [],
      "collapsed_sections": [],
      "include_colab_link": true
    },
    "kernelspec": {
      "name": "python3",
      "display_name": "Python 3"
    },
    "language_info": {
      "name": "python"
    }
  },
  "cells": [
    {
      "cell_type": "markdown",
      "metadata": {
        "id": "view-in-github",
        "colab_type": "text"
      },
      "source": [
        "<a href=\"https://colab.research.google.com/github/AlbezJelt/compass-aligned-graph-embeddings/blob/main/notebooks/Cade.ipynb\" target=\"_parent\"><img src=\"https://colab.research.google.com/assets/colab-badge.svg\" alt=\"Open In Colab\"/></a>"
      ]
    },
    {
      "cell_type": "code",
      "execution_count": 1,
      "metadata": {
        "id": "VY32oDsi1rki"
      },
      "outputs": [],
      "source": [
        "%%capture\n",
        "!pip install folium==0.2.1\n",
        "!pip install git+https://github.com/valedica/gensim.git\n",
        "!pip install -U cade"
      ]
    },
    {
      "cell_type": "code",
      "source": [
        "%%capture\n",
        "#download file.txt\n",
        "!wget https://raw.githubusercontent.com/AlbezJelt/compass-aligned-graph-embeddings/main/data/wiki_walks_from_dbpedia.txt\n",
        "!wget https://raw.githubusercontent.com/AlbezJelt/compass-aligned-graph-embeddings/main/data/wikidata_walks_final.txt\n",
        "#compass.txt for cade\n",
        "!cat wiki_walks_from_dbpedia.txt wikidata_walks_final.txt >> compass.txt"
      ],
      "metadata": {
        "id": "WWtWSXR015T0"
      },
      "execution_count": 2,
      "outputs": []
    },
    {
      "cell_type": "code",
      "source": [
        "import json\n",
        "import requests\n",
        "from cade.cade import CADE\n",
        "from gensim.models.word2vec import Word2Vec\n",
        "from scipy.spatial.distance import cosine"
      ],
      "metadata": {
        "id": "J9eEgYgKzCls"
      },
      "execution_count": 3,
      "outputs": []
    },
    {
      "cell_type": "code",
      "source": [
        "#load dictionary with labels\n",
        "with requests.get(\"https://raw.githubusercontent.com/AlbezJelt/compass-aligned-graph-embeddings/main/data/wikidata_label_dictionary.json\", \"rt\") as req:\n",
        "  label_dict = json.loads(req.text)"
      ],
      "metadata": {
        "id": "ccAkr8E_fXGO"
      },
      "execution_count": 4,
      "outputs": []
    },
    {
      "cell_type": "code",
      "source": [
        "#train compass\n",
        "aligner = CADE(size=30)\n",
        "aligner.train_compass(\"compass.txt\", overwrite=False)"
      ],
      "metadata": {
        "colab": {
          "base_uri": "https://localhost:8080/"
        },
        "id": "B_xDFjsd0SDj",
        "outputId": "5ebb85a1-052c-40a6-f24a-cfc764beb440"
      },
      "execution_count": 5,
      "outputs": [
        {
          "output_type": "stream",
          "name": "stdout",
          "text": [
            "Training the compass from scratch.\n"
          ]
        },
        {
          "output_type": "stream",
          "name": "stderr",
          "text": [
            "/usr/local/lib/python3.7/dist-packages/smart_open/smart_open_lib.py:410: UserWarning: This function is deprecated, use smart_open.open instead. See the migration notes for details: https://github.com/RaRe-Technologies/smart_open/blob/master/README.rst#migrating-to-the-new-open-function\n",
            "  'See the migration notes for details: %s' % _MIGRATION_NOTES_URL\n"
          ]
        }
      ]
    },
    {
      "cell_type": "code",
      "source": [
        "#train 2 slices on texts\n",
        "slice_one = aligner.train_slice(\"wiki_walks_from_dbpedia.txt\", save=True)\n",
        "slice_two = aligner.train_slice(\"wikidata_walks_final.txt\", save=True)"
      ],
      "metadata": {
        "colab": {
          "base_uri": "https://localhost:8080/"
        },
        "id": "kJC2xHAN0fdn",
        "outputId": "1f1bb598-bc2f-4933-ffda-9074add8a8ad"
      },
      "execution_count": 6,
      "outputs": [
        {
          "output_type": "stream",
          "name": "stdout",
          "text": [
            "Training embeddings: slice wiki_walks_from_dbpedia.txt.\n"
          ]
        },
        {
          "output_type": "stream",
          "name": "stderr",
          "text": [
            "/usr/local/lib/python3.7/dist-packages/smart_open/smart_open_lib.py:410: UserWarning: This function is deprecated, use smart_open.open instead. See the migration notes for details: https://github.com/RaRe-Technologies/smart_open/blob/master/README.rst#migrating-to-the-new-open-function\n",
            "  'See the migration notes for details: %s' % _MIGRATION_NOTES_URL\n"
          ]
        },
        {
          "output_type": "stream",
          "name": "stdout",
          "text": [
            "Initializing embeddings from compass.\n",
            "Training embeddings: slice wikidata_walks_final.txt.\n",
            "Initializing embeddings from compass.\n"
          ]
        }
      ]
    },
    {
      "cell_type": "code",
      "source": [
        "#create models for texts\n",
        "model1 = Word2Vec.load(\"model/wiki_walks_from_dbpedia.model\")\n",
        "model2 = Word2Vec.load(\"model/wikidata_walks_final.model\")"
      ],
      "metadata": {
        "colab": {
          "base_uri": "https://localhost:8080/"
        },
        "id": "P1EGTC7g0tym",
        "outputId": "c449b758-5f61-4dc7-a08b-a21983230756"
      },
      "execution_count": 7,
      "outputs": [
        {
          "output_type": "stream",
          "name": "stderr",
          "text": [
            "/usr/local/lib/python3.7/dist-packages/smart_open/smart_open_lib.py:410: UserWarning: This function is deprecated, use smart_open.open instead. See the migration notes for details: https://github.com/RaRe-Technologies/smart_open/blob/master/README.rst#migrating-to-the-new-open-function\n",
            "  'See the migration notes for details: %s' % _MIGRATION_NOTES_URL\n"
          ]
        }
      ]
    },
    {
      "cell_type": "code",
      "source": [
        "def graph_creation(startpoint, epoch):\n",
        "  if epoch == 0:\n",
        "    return 0\n",
        "  elif startpoint in model1.wv.vocab:\n",
        "    similar = model2.wv.similar_by_vector(model1[startpoint])[slice(0,3)]\n",
        "    if startpoint not in G:\n",
        "      G.add_node(label_dict[startpoint])\n",
        "    for i in range (0,3):\n",
        "      word = label_dict[similar[i][0]]\n",
        "      weight = similar[i][1]\n",
        "      edge = (label_dict[startpoint], word, {\"weight\" : weight})\n",
        "      if word not in G:\n",
        "        G.add_node(word)\n",
        "      if not(G.has_edge(*edge[:2])):\n",
        "        G.add_edge(*edge[:2])\n",
        "    graph_creation(similar[0][0], epoch-1)\n",
        "    graph_creation(similar[1][0], epoch-1)\n",
        "    graph_creation(similar[2][0], epoch-1)\n",
        "    return 0\n",
        "  else:\n",
        "    return 0"
      ],
      "metadata": {
        "id": "UPyFyeUySL15"
      },
      "execution_count": 72,
      "outputs": []
    },
    {
      "cell_type": "code",
      "source": [
        "import networkx as nx\n",
        "G=nx.DiGraph()\n",
        "startpoint = \"Q38\"\n",
        "graph_creation(startpoint, 5)"
      ],
      "metadata": {
        "id": "QflWFpx-Qmx9",
        "outputId": "03e3d42d-6eb1-4c45-b47d-827bf3b74953",
        "colab": {
          "base_uri": "https://localhost:8080/"
        }
      },
      "execution_count": 75,
      "outputs": [
        {
          "output_type": "stream",
          "name": "stderr",
          "text": [
            "/usr/local/lib/python3.7/dist-packages/ipykernel_launcher.py:5: DeprecationWarning: Call to deprecated `__getitem__` (Method will be removed in 4.0.0, use self.wv.__getitem__() instead).\n",
            "  \"\"\"\n"
          ]
        },
        {
          "output_type": "execute_result",
          "data": {
            "text/plain": [
              "0"
            ]
          },
          "metadata": {},
          "execution_count": 75
        }
      ]
    },
    {
      "cell_type": "code",
      "source": [
        "%%capture\n",
        "!pip install pyvis"
      ],
      "metadata": {
        "id": "sQK7XfohdNQn"
      },
      "execution_count": 55,
      "outputs": []
    },
    {
      "cell_type": "code",
      "source": [
        "from pyvis.network import Network\n",
        "net = Network(notebook=True)\n",
        "net.from_nx(G)\n",
        "net.show(\"example.html\")\n",
        "\n"
      ],
      "metadata": {
        "id": "TiaoTTT2Tson",
        "outputId": "224f0fdc-44ef-4827-864f-df2b3383ada5",
        "colab": {
          "base_uri": "https://localhost:8080/",
          "height": 521
        }
      },
      "execution_count": 76,
      "outputs": [
        {
          "output_type": "execute_result",
          "data": {
            "text/html": [
              "\n",
              "        <iframe\n",
              "            width=\"500px\"\n",
              "            height=\"500px\"\n",
              "            src=\"example.html\"\n",
              "            frameborder=\"0\"\n",
              "            allowfullscreen\n",
              "        ></iframe>\n",
              "        "
            ],
            "text/plain": [
              "<IPython.lib.display.IFrame at 0x7fe3e58a49d0>"
            ]
          },
          "metadata": {},
          "execution_count": 76
        }
      ]
    },
    {
      "cell_type": "code",
      "source": [
        " similar = model2.wv.similar_by_vector(model1[startpoint])[slice(0,3)]\n",
        " label_dict[similar[2][0]]"
      ],
      "metadata": {
        "id": "9R2ZYbg5eJnP",
        "outputId": "241655f0-ddf5-445a-e2ba-5f28b9d851a4",
        "colab": {
          "base_uri": "https://localhost:8080/",
          "height": 92
        }
      },
      "execution_count": 67,
      "outputs": [
        {
          "output_type": "stream",
          "name": "stderr",
          "text": [
            "/usr/local/lib/python3.7/dist-packages/ipykernel_launcher.py:1: DeprecationWarning: Call to deprecated `__getitem__` (Method will be removed in 4.0.0, use self.wv.__getitem__() instead).\n",
            "  \"\"\"Entry point for launching an IPython kernel.\n"
          ]
        },
        {
          "output_type": "execute_result",
          "data": {
            "application/vnd.google.colaboratory.intrinsic+json": {
              "type": "string"
            },
            "text/plain": [
              "'Category:Deaths in Friuli–Venezia Giulia'"
            ]
          },
          "metadata": {},
          "execution_count": 67
        }
      ]
    }
  ]
}