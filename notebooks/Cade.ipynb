{
  "nbformat": 4,
  "nbformat_minor": 0,
  "metadata": {
    "colab": {
      "name": "Cade.ipynb",
      "provenance": [],
      "collapsed_sections": []
    },
    "kernelspec": {
      "name": "python3",
      "display_name": "Python 3"
    },
    "language_info": {
      "name": "python"
    }
  },
  "cells": [
    {
      "cell_type": "code",
      "execution_count": 1,
      "metadata": {
        "id": "VY32oDsi1rki"
      },
      "outputs": [],
      "source": [
        "%%capture\n",
        "!pip install folium==0.2.1 git+https://github.com/valedica/gensim.git cade"
      ]
    },
    {
      "cell_type": "code",
      "source": [
        "%%capture\n",
        "#download file.txt\n",
        "!wget https://raw.githubusercontent.com/AlbezJelt/compass-aligned-graph-embeddings/main/data/wiki_walks_from_dbpedia.txt\n",
        "!wget https://raw.githubusercontent.com/AlbezJelt/compass-aligned-graph-embeddings/main/data/wikidata_walks_final.txt\n",
        "#compass.txt for cade\n",
        "!cat wiki_walks_from_dbpedia.txt wikidata_walks_final.txt >> compass.txt"
      ],
      "metadata": {
        "id": "WWtWSXR015T0"
      },
      "execution_count": null,
      "outputs": []
    },
    {
      "cell_type": "code",
      "source": [
        "import json\n",
        "import requests\n",
        "from cade.cade import CADE\n",
        "from gensim.models.word2vec import Word2Vec\n",
        "from scipy.spatial.distance import cosine"
      ],
      "metadata": {
        "id": "J9eEgYgKzCls"
      },
      "execution_count": 6,
      "outputs": []
    },
    {
      "cell_type": "code",
      "source": [
        "#load dictionary with labels\n",
        "with requests.get(\"https://raw.githubusercontent.com/AlbezJelt/compass-aligned-graph-embeddings/main/data/wikidata_label_dictionary.json\", \"rt\") as req:\n",
        "  label_dict = json.loads(req.text)"
      ],
      "metadata": {
        "id": "ccAkr8E_fXGO"
      },
      "execution_count": 11,
      "outputs": []
    },
    {
      "cell_type": "code",
      "source": [
        "#train compass\n",
        "aligner = CADE(size=30)\n",
        "aligner.train_compass(\"compass.txt\", overwrite=False)"
      ],
      "metadata": {
        "colab": {
          "base_uri": "https://localhost:8080/"
        },
        "id": "B_xDFjsd0SDj",
        "outputId": "f481f87b-c61e-43a0-ba08-e8278295bbc6"
      },
      "execution_count": null,
      "outputs": [
        {
          "output_type": "stream",
          "name": "stdout",
          "text": [
            "Training the compass from scratch.\n"
          ]
        },
        {
          "output_type": "stream",
          "name": "stderr",
          "text": [
            "/usr/local/lib/python3.7/dist-packages/smart_open/smart_open_lib.py:410: UserWarning: This function is deprecated, use smart_open.open instead. See the migration notes for details: https://github.com/RaRe-Technologies/smart_open/blob/master/README.rst#migrating-to-the-new-open-function\n",
            "  'See the migration notes for details: %s' % _MIGRATION_NOTES_URL\n"
          ]
        }
      ]
    },
    {
      "cell_type": "code",
      "source": [
        "#train 2 slices on texts\n",
        "slice_one = aligner.train_slice(\"wiki_walks_from_dbpedia.txt\", save=True)\n",
        "slice_two = aligner.train_slice(\"wikidata_walks_final.txt\", save=True)"
      ],
      "metadata": {
        "colab": {
          "base_uri": "https://localhost:8080/"
        },
        "id": "kJC2xHAN0fdn",
        "outputId": "f69211aa-ef16-48d4-9e9b-6b957868a572"
      },
      "execution_count": null,
      "outputs": [
        {
          "output_type": "stream",
          "name": "stdout",
          "text": [
            "Training embeddings: slice wiki_walks_from_dbpedia.txt.\n"
          ]
        },
        {
          "output_type": "stream",
          "name": "stderr",
          "text": [
            "/usr/local/lib/python3.7/dist-packages/smart_open/smart_open_lib.py:410: UserWarning: This function is deprecated, use smart_open.open instead. See the migration notes for details: https://github.com/RaRe-Technologies/smart_open/blob/master/README.rst#migrating-to-the-new-open-function\n",
            "  'See the migration notes for details: %s' % _MIGRATION_NOTES_URL\n"
          ]
        },
        {
          "output_type": "stream",
          "name": "stdout",
          "text": [
            "Initializing embeddings from compass.\n",
            "Training embeddings: slice wikidata_walks_final.txt.\n",
            "Initializing embeddings from compass.\n"
          ]
        }
      ]
    },
    {
      "cell_type": "code",
      "source": [
        "#create models for texts\n",
        "model1 = Word2Vec.load(\"model/wiki_walks_from_dbpedia.model\")\n",
        "model2 = Word2Vec.load(\"model/wikidata_walks_final.model\")"
      ],
      "metadata": {
        "colab": {
          "base_uri": "https://localhost:8080/"
        },
        "id": "P1EGTC7g0tym",
        "outputId": "07d36188-5c19-412f-d378-033791122a75"
      },
      "execution_count": null,
      "outputs": [
        {
          "output_type": "stream",
          "name": "stderr",
          "text": [
            "/usr/local/lib/python3.7/dist-packages/smart_open/smart_open_lib.py:410: UserWarning: This function is deprecated, use smart_open.open instead. See the migration notes for details: https://github.com/RaRe-Technologies/smart_open/blob/master/README.rst#migrating-to-the-new-open-function\n",
            "  'See the migration notes for details: %s' % _MIGRATION_NOTES_URL\n"
          ]
        }
      ]
    }
  ]
}