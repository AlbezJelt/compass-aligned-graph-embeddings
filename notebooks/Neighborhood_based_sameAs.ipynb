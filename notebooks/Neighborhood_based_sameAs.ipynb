{
  "cells": [
    {
      "cell_type": "markdown",
      "metadata": {
        "id": "view-in-github",
        "colab_type": "text"
      },
      "source": [
        "<a href=\"https://colab.research.google.com/github/AlbezJelt/compass-aligned-graph-embeddings/blob/main/notebooks/Neighborhood_based_sameAs.ipynb\" target=\"_parent\"><img src=\"https://colab.research.google.com/assets/colab-badge.svg\" alt=\"Open In Colab\"/></a>"
      ]
    },
    {
      "cell_type": "code",
      "execution_count": 1,
      "metadata": {
        "id": "UjWKx2luicsT"
      },
      "outputs": [],
      "source": [
        "%%capture\n",
        "!pip install rdflib sparqlwrapper"
      ]
    },
    {
      "cell_type": "code",
      "execution_count": 2,
      "metadata": {
        "id": "1AU5ZHbKpfPm"
      },
      "outputs": [],
      "source": [
        "import re\n",
        "from multiprocessing import Manager, Process\n",
        "from multiprocessing.dummy import Pool as ThreadPool\n",
        "from operator import itemgetter\n",
        "from pprint import pprint\n",
        "import time\n",
        "\n",
        "import requests\n",
        "from SPARQLWrapper import JSON, SPARQLWrapper\n",
        "from tqdm.notebook import tqdm"
      ]
    },
    {
      "cell_type": "code",
      "execution_count": 3,
      "metadata": {
        "id": "uNm6X8kXrqiT"
      },
      "outputs": [],
      "source": [
        "#read dbpedia_walks_final\n",
        "with requests.get('https://raw.githubusercontent.com/AlbezJelt/compass-aligned-graph-embeddings/main/data/dbpedia_walks_final.txt') as req:\n",
        "  walks = [phrase.split(' ') for phrase in req.text.split('\\n')]"
      ]
    },
    {
      "cell_type": "code",
      "execution_count": 4,
      "metadata": {
        "id": "h7yxGS2ksEak"
      },
      "outputs": [],
      "source": [
        "manager = Manager()\n",
        "dic_dbpedia_to_wikidata = manager.dict()\n",
        "d_dbpedia_sn = manager.dict()\n",
        "d_wikidata_n = manager.dict()"
      ]
    },
    {
      "cell_type": "code",
      "source": [
        "dbpedia_sameas_neighborhood_query = re.sub(' {2,}', ' ', \"\"\"\n",
        "    SELECT DISTINCT * WHERE {{\n",
        "        {{\n",
        "            SELECT ?we WHERE {{\n",
        "                <http://dbpedia.org/resource/{entity}> ?p ?o.\n",
        "                ?o owl:sameAs ?we.\n",
        "                FILTER(CONTAINS(STR(?we), \\\"wikidata.org/entity/Q\\\"))\n",
        "            }}\n",
        "        }}\n",
        "        UNION\n",
        "        {{\n",
        "            SELECT ?we WHERE {{\n",
        "                <http://dbpedia.org/resource/{entity}> dbo:wikiPageRedirects ?r.\n",
        "                ?r ?p ?o.\n",
        "                ?o owl:sameAs ?we.\n",
        "                FILTER(CONTAINS(STR(?we), \\\"wikidata.org/entity/Q\\\"))\n",
        "            }}\n",
        "        }}\n",
        "    }}\n",
        "\"\"\")\n",
        "\n",
        "toWikidata_query = re.sub(' {2,}', ' ', \"\"\"\n",
        "    SELECT DISTINCT * WHERE {{\n",
        "        {{\n",
        "            SELECT ?o WHERE {{\n",
        "                <http://dbpedia.org/resource/{entity}> dbo:wikiPageRedirects ?r.\n",
        "                ?r owl:sameAs ?o.\n",
        "                FILTER(CONTAINS(STR(?o), \\\"wikidata.org/entity/Q\\\"))\n",
        "            }}\n",
        "        }}\n",
        "        UNION\n",
        "        {{\n",
        "            SELECT ?o WHERE {{\n",
        "                <http://dbpedia.org/resource/{entity}> owl:sameAs ?o.\n",
        "                FILTER(CONTAINS(STR(?o), \\\"wikidata.org/entity/Q\\\"))\n",
        "            }}\n",
        "        }}\n",
        "    }}\n",
        "\"\"\")\n",
        "\n",
        "wikidata_neighborhood_query = re.sub(' {2,}', ' ', \"\"\"\n",
        "    SELECT DISTINCT ?o WHERE {{\n",
        "        wd:{entity} ?p ?o.\n",
        "        FILTER(CONTAINS(STR(?o), \\\"wikidata.org/entity/Q\\\"))\n",
        "    }}\n",
        "\"\"\")\n"
      ],
      "metadata": {
        "id": "Mv9qie1rbOyq"
      },
      "execution_count": 5,
      "outputs": []
    },
    {
      "cell_type": "code",
      "source": [
        "def dbpedia_sameas_neighborhood(dbpedia_entity: str):\n",
        "    if dbpedia_entity not in d_dbpedia_sn:\n",
        "        sparql = SPARQLWrapper(\"http://dbpedia.org/sparql\")\n",
        "        sparql.setQuery(dbpedia_sameas_neighborhood_query.format(entity=dbpedia_entity))\n",
        "        sparql.setReturnFormat(JSON)\n",
        "        results = sparql.query().convert()\n",
        "        d_dbpedia_sn[dbpedia_entity] = [r[\"we\"][\"value\"]\n",
        "                                        for r in results['results']['bindings']]\n",
        "    return d_dbpedia_sn[dbpedia_entity]\n"
      ],
      "metadata": {
        "id": "bQFSxzxWpybP"
      },
      "execution_count": 6,
      "outputs": []
    },
    {
      "cell_type": "code",
      "source": [
        "def wikidata_neighborhood(wikidata_entity: str):\n",
        "    if wikidata_entity not in d_wikidata_n:\n",
        "        sparql = SPARQLWrapper(\"https://query.wikidata.org/sparql\")\n",
        "        sparql.agent = 'AlbezJelt ' + sparql.agent\n",
        "        sparql.setQuery(wikidata_neighborhood_query.format(entity=wikidata_entity))\n",
        "        sparql.setReturnFormat(JSON)\n",
        "        results = sparql.query().convert()\n",
        "        d_wikidata_n[wikidata_entity] = [r[\"o\"][\"value\"]\n",
        "                                         for r in results['results']['bindings']]\n",
        "    return d_wikidata_n[wikidata_entity]\n"
      ],
      "metadata": {
        "id": "lNii74IjqOj8"
      },
      "execution_count": 7,
      "outputs": []
    },
    {
      "cell_type": "code",
      "source": [
        "def select_sameas(wikidata_sameas, dbpedia_entity: str) -> str:\n",
        "    # Find dpedia neighborhood\n",
        "    dbpedia_nb = set(dbpedia_sameas_neighborhood(dbpedia_entity))\n",
        "    wikidata_nbs = ((we, wikidata_neighborhood(we)) for we in wikidata_sameas)\n",
        "    matches = [(nb[0], len(set(nb[1]).intersection(dbpedia_nb)))\n",
        "               for nb in wikidata_nbs]\n",
        "    match = max(matches, key=itemgetter(1))\n",
        "    tqdm.write(\n",
        "        f\"DBpedia {dbpedia_entity}: selected {match[0]} with {match[1]} matches.\")\n",
        "    return match[0]"
      ],
      "metadata": {
        "id": "DXtQs13zmk0C"
      },
      "execution_count": 8,
      "outputs": []
    },
    {
      "cell_type": "code",
      "execution_count": 9,
      "metadata": {
        "id": "_amvslO4ogCQ"
      },
      "outputs": [],
      "source": [
        "def toWikidata(entity: str):\n",
        "    if entity not in dic_dbpedia_to_wikidata:\n",
        "        sparql = SPARQLWrapper(\"http://dbpedia.org/sparql\")\n",
        "        sparql.setQuery(toWikidata_query.format(entity=entity))\n",
        "        sparql.setReturnFormat(JSON)\n",
        "        results = sparql.query().convert()\n",
        "        wikidata_sameas = [x.replace(\"http://www.wikidata.org/entity/\", \"\")\n",
        "                           for x in [r[\"o\"][\"value\"] for r in results['results']['bindings']]]\n",
        "        if len(wikidata_sameas) == 0:\n",
        "            dic_dbpedia_to_wikidata[entity] = entity\n",
        "        elif len(wikidata_sameas) == 1:\n",
        "            dic_dbpedia_to_wikidata[entity] = wikidata_sameas[0]\n",
        "        else:\n",
        "            dic_dbpedia_to_wikidata[entity] = select_sameas(\n",
        "                wikidata_sameas, entity)\n",
        "    return dic_dbpedia_to_wikidata[entity]"
      ]
    },
    {
      "cell_type": "code",
      "execution_count": 10,
      "metadata": {
        "id": "veen5hX-s45t"
      },
      "outputs": [],
      "source": [
        "def toWikidataWalk(walk: list):\n",
        "    wikidata_walk = [toWikidata(link) for link in walk]\n",
        "    return wikidata_walk"
      ]
    },
    {
      "cell_type": "code",
      "execution_count": 11,
      "metadata": {
        "id": "QodSbvV5OpqS",
        "colab": {
          "base_uri": "https://localhost:8080/",
          "height": 673,
          "referenced_widgets": [
            "513cdf4992114d59b7909cc0bf5fb8f8",
            "b2930020b5bc4f2bb6bf3620c9240d07",
            "560ae6cfa76241549f1610c956c521b8",
            "0aa64d34d24641b1b65e9556d9c26e14",
            "0f3e9fd3dcc9497baaf0d654f91ced87",
            "762621c5b83149ae8101e1966519e9e9",
            "a79be27e4b19485487dd4024867fa267",
            "566ef68cf492428e9f2adb7773c93a29",
            "257050ae507e439bae2fba34e1d81ff1",
            "3d004494f76f4bf4896ba605805906c5",
            "118ed3947fad479190f53139e92a5423"
          ]
        },
        "outputId": "3ea619d2-8e54-4150-b49d-d0ffdc4666d8"
      },
      "outputs": [
        {
          "output_type": "display_data",
          "data": {
            "application/vnd.jupyter.widget-view+json": {
              "model_id": "513cdf4992114d59b7909cc0bf5fb8f8",
              "version_minor": 0,
              "version_major": 2
            },
            "text/plain": [
              "  0%|          | 0/2501 [00:00<?, ?it/s]"
            ]
          },
          "metadata": {}
        },
        {
          "output_type": "stream",
          "name": "stdout",
          "text": [
            "DBpedia Meath_(Parliament_of_Ireland_constituency): selected Q183544 with 0 matches.\n",
            "DBpedia Manhattan: selected Q11299 with 24 matches.\n",
            "DBpedia Noam_Chomsky: selected Q9049 with 75 matches.\n",
            "DBpedia Ottoman_Empire: selected Q12560 with 29 matches.\n",
            "DBpedia Art_Institute_of_Chicago: selected Q239303 with 4 matches.\n",
            "DBpedia Study_(art): selected Q5078274 with 1 matches.\n",
            "DBpedia Poet: selected Q49757 with 3 matches.\n",
            "DBpedia Royal_Dutch_Shell: selected Q154950 with 22 matches.\n",
            "DBpedia Europe: selected Q46 with 11 matches.\n",
            "DBpedia HathiTrust: selected Q3128305 with 3 matches.\n",
            "DBpedia Perfect_fifth: selected Q12372854 with 5 matches.\n",
            "DBpedia Småland: selected Q199957 with 13 matches.\n"
          ]
        },
        {
          "output_type": "error",
          "ename": "KeyboardInterrupt",
          "evalue": "ignored",
          "traceback": [
            "\u001b[0;31m---------------------------------------------------------------------------\u001b[0m",
            "\u001b[0;31mIndexError\u001b[0m                                Traceback (most recent call last)",
            "\u001b[0;32m/usr/lib/python3.7/multiprocessing/pool.py\u001b[0m in \u001b[0;36mnext\u001b[0;34m(self, timeout)\u001b[0m\n\u001b[1;32m    732\u001b[0m             \u001b[0;32mtry\u001b[0m\u001b[0;34m:\u001b[0m\u001b[0;34m\u001b[0m\u001b[0;34m\u001b[0m\u001b[0m\n\u001b[0;32m--> 733\u001b[0;31m                 \u001b[0mitem\u001b[0m \u001b[0;34m=\u001b[0m \u001b[0mself\u001b[0m\u001b[0;34m.\u001b[0m\u001b[0m_items\u001b[0m\u001b[0;34m.\u001b[0m\u001b[0mpopleft\u001b[0m\u001b[0;34m(\u001b[0m\u001b[0;34m)\u001b[0m\u001b[0;34m\u001b[0m\u001b[0;34m\u001b[0m\u001b[0m\n\u001b[0m\u001b[1;32m    734\u001b[0m             \u001b[0;32mexcept\u001b[0m \u001b[0mIndexError\u001b[0m\u001b[0;34m:\u001b[0m\u001b[0;34m\u001b[0m\u001b[0;34m\u001b[0m\u001b[0m\n",
            "\u001b[0;31mIndexError\u001b[0m: pop from an empty deque",
            "\nDuring handling of the above exception, another exception occurred:\n",
            "\u001b[0;31mKeyboardInterrupt\u001b[0m                         Traceback (most recent call last)",
            "\u001b[0;32m<ipython-input-11-1aba401535ef>\u001b[0m in \u001b[0;36m<module>\u001b[0;34m()\u001b[0m\n\u001b[1;32m      1\u001b[0m \u001b[0;31m#thread pool for extract wikidata walks from same as link of dbpedia\u001b[0m\u001b[0;34m\u001b[0m\u001b[0;34m\u001b[0m\u001b[0;34m\u001b[0m\u001b[0m\n\u001b[1;32m      2\u001b[0m \u001b[0;32mwith\u001b[0m \u001b[0mThreadPool\u001b[0m\u001b[0;34m(\u001b[0m\u001b[0;36m4\u001b[0m\u001b[0;34m)\u001b[0m \u001b[0;32mas\u001b[0m \u001b[0mpool\u001b[0m\u001b[0;34m:\u001b[0m\u001b[0;34m\u001b[0m\u001b[0;34m\u001b[0m\u001b[0m\n\u001b[0;32m----> 3\u001b[0;31m     \u001b[0mres\u001b[0m \u001b[0;34m=\u001b[0m \u001b[0mlist\u001b[0m\u001b[0;34m(\u001b[0m\u001b[0mtqdm\u001b[0m\u001b[0;34m(\u001b[0m\u001b[0mpool\u001b[0m\u001b[0;34m.\u001b[0m\u001b[0mimap\u001b[0m\u001b[0;34m(\u001b[0m\u001b[0mtoWikidataWalk\u001b[0m\u001b[0;34m,\u001b[0m \u001b[0mwalks\u001b[0m\u001b[0;34m)\u001b[0m\u001b[0;34m,\u001b[0m \u001b[0mtotal\u001b[0m\u001b[0;34m=\u001b[0m\u001b[0mlen\u001b[0m\u001b[0;34m(\u001b[0m\u001b[0mwalks\u001b[0m\u001b[0;34m)\u001b[0m\u001b[0;34m)\u001b[0m\u001b[0;34m)\u001b[0m\u001b[0;34m\u001b[0m\u001b[0;34m\u001b[0m\u001b[0m\n\u001b[0m",
            "\u001b[0;32m/usr/local/lib/python3.7/dist-packages/tqdm/notebook.py\u001b[0m in \u001b[0;36m__iter__\u001b[0;34m(self)\u001b[0m\n\u001b[1;32m    255\u001b[0m     \u001b[0;32mdef\u001b[0m \u001b[0m__iter__\u001b[0m\u001b[0;34m(\u001b[0m\u001b[0mself\u001b[0m\u001b[0;34m)\u001b[0m\u001b[0;34m:\u001b[0m\u001b[0;34m\u001b[0m\u001b[0;34m\u001b[0m\u001b[0m\n\u001b[1;32m    256\u001b[0m         \u001b[0;32mtry\u001b[0m\u001b[0;34m:\u001b[0m\u001b[0;34m\u001b[0m\u001b[0;34m\u001b[0m\u001b[0m\n\u001b[0;32m--> 257\u001b[0;31m             \u001b[0;32mfor\u001b[0m \u001b[0mobj\u001b[0m \u001b[0;32min\u001b[0m \u001b[0msuper\u001b[0m\u001b[0;34m(\u001b[0m\u001b[0mtqdm_notebook\u001b[0m\u001b[0;34m,\u001b[0m \u001b[0mself\u001b[0m\u001b[0;34m)\u001b[0m\u001b[0;34m.\u001b[0m\u001b[0m__iter__\u001b[0m\u001b[0;34m(\u001b[0m\u001b[0;34m)\u001b[0m\u001b[0;34m:\u001b[0m\u001b[0;34m\u001b[0m\u001b[0;34m\u001b[0m\u001b[0m\n\u001b[0m\u001b[1;32m    258\u001b[0m                 \u001b[0;31m# return super(tqdm...) will not catch exception\u001b[0m\u001b[0;34m\u001b[0m\u001b[0;34m\u001b[0m\u001b[0;34m\u001b[0m\u001b[0m\n\u001b[1;32m    259\u001b[0m                 \u001b[0;32myield\u001b[0m \u001b[0mobj\u001b[0m\u001b[0;34m\u001b[0m\u001b[0;34m\u001b[0m\u001b[0m\n",
            "\u001b[0;32m/usr/local/lib/python3.7/dist-packages/tqdm/std.py\u001b[0m in \u001b[0;36m__iter__\u001b[0;34m(self)\u001b[0m\n\u001b[1;32m   1178\u001b[0m \u001b[0;34m\u001b[0m\u001b[0m\n\u001b[1;32m   1179\u001b[0m         \u001b[0;32mtry\u001b[0m\u001b[0;34m:\u001b[0m\u001b[0;34m\u001b[0m\u001b[0;34m\u001b[0m\u001b[0m\n\u001b[0;32m-> 1180\u001b[0;31m             \u001b[0;32mfor\u001b[0m \u001b[0mobj\u001b[0m \u001b[0;32min\u001b[0m \u001b[0miterable\u001b[0m\u001b[0;34m:\u001b[0m\u001b[0;34m\u001b[0m\u001b[0;34m\u001b[0m\u001b[0m\n\u001b[0m\u001b[1;32m   1181\u001b[0m                 \u001b[0;32myield\u001b[0m \u001b[0mobj\u001b[0m\u001b[0;34m\u001b[0m\u001b[0;34m\u001b[0m\u001b[0m\n\u001b[1;32m   1182\u001b[0m                 \u001b[0;31m# Update and possibly print the progressbar.\u001b[0m\u001b[0;34m\u001b[0m\u001b[0;34m\u001b[0m\u001b[0;34m\u001b[0m\u001b[0m\n",
            "\u001b[0;32m/usr/lib/python3.7/multiprocessing/pool.py\u001b[0m in \u001b[0;36mnext\u001b[0;34m(self, timeout)\u001b[0m\n\u001b[1;32m    735\u001b[0m                 \u001b[0;32mif\u001b[0m \u001b[0mself\u001b[0m\u001b[0;34m.\u001b[0m\u001b[0m_index\u001b[0m \u001b[0;34m==\u001b[0m \u001b[0mself\u001b[0m\u001b[0;34m.\u001b[0m\u001b[0m_length\u001b[0m\u001b[0;34m:\u001b[0m\u001b[0;34m\u001b[0m\u001b[0;34m\u001b[0m\u001b[0m\n\u001b[1;32m    736\u001b[0m                     \u001b[0;32mraise\u001b[0m \u001b[0mStopIteration\u001b[0m \u001b[0;32mfrom\u001b[0m \u001b[0;32mNone\u001b[0m\u001b[0;34m\u001b[0m\u001b[0;34m\u001b[0m\u001b[0m\n\u001b[0;32m--> 737\u001b[0;31m                 \u001b[0mself\u001b[0m\u001b[0;34m.\u001b[0m\u001b[0m_cond\u001b[0m\u001b[0;34m.\u001b[0m\u001b[0mwait\u001b[0m\u001b[0;34m(\u001b[0m\u001b[0mtimeout\u001b[0m\u001b[0;34m)\u001b[0m\u001b[0;34m\u001b[0m\u001b[0;34m\u001b[0m\u001b[0m\n\u001b[0m\u001b[1;32m    738\u001b[0m                 \u001b[0;32mtry\u001b[0m\u001b[0;34m:\u001b[0m\u001b[0;34m\u001b[0m\u001b[0;34m\u001b[0m\u001b[0m\n\u001b[1;32m    739\u001b[0m                     \u001b[0mitem\u001b[0m \u001b[0;34m=\u001b[0m \u001b[0mself\u001b[0m\u001b[0;34m.\u001b[0m\u001b[0m_items\u001b[0m\u001b[0;34m.\u001b[0m\u001b[0mpopleft\u001b[0m\u001b[0;34m(\u001b[0m\u001b[0;34m)\u001b[0m\u001b[0;34m\u001b[0m\u001b[0;34m\u001b[0m\u001b[0m\n",
            "\u001b[0;32m/usr/lib/python3.7/threading.py\u001b[0m in \u001b[0;36mwait\u001b[0;34m(self, timeout)\u001b[0m\n\u001b[1;32m    294\u001b[0m         \u001b[0;32mtry\u001b[0m\u001b[0;34m:\u001b[0m    \u001b[0;31m# restore state no matter what (e.g., KeyboardInterrupt)\u001b[0m\u001b[0;34m\u001b[0m\u001b[0;34m\u001b[0m\u001b[0m\n\u001b[1;32m    295\u001b[0m             \u001b[0;32mif\u001b[0m \u001b[0mtimeout\u001b[0m \u001b[0;32mis\u001b[0m \u001b[0;32mNone\u001b[0m\u001b[0;34m:\u001b[0m\u001b[0;34m\u001b[0m\u001b[0;34m\u001b[0m\u001b[0m\n\u001b[0;32m--> 296\u001b[0;31m                 \u001b[0mwaiter\u001b[0m\u001b[0;34m.\u001b[0m\u001b[0macquire\u001b[0m\u001b[0;34m(\u001b[0m\u001b[0;34m)\u001b[0m\u001b[0;34m\u001b[0m\u001b[0;34m\u001b[0m\u001b[0m\n\u001b[0m\u001b[1;32m    297\u001b[0m                 \u001b[0mgotit\u001b[0m \u001b[0;34m=\u001b[0m \u001b[0;32mTrue\u001b[0m\u001b[0;34m\u001b[0m\u001b[0;34m\u001b[0m\u001b[0m\n\u001b[1;32m    298\u001b[0m             \u001b[0;32melse\u001b[0m\u001b[0;34m:\u001b[0m\u001b[0;34m\u001b[0m\u001b[0;34m\u001b[0m\u001b[0m\n",
            "\u001b[0;31mKeyboardInterrupt\u001b[0m: "
          ]
        }
      ],
      "source": [
        "#thread pool for extract wikidata walks from same as link of dbpedia\n",
        "with ThreadPool(4) as pool:\n",
        "    res = list(tqdm(pool.imap(toWikidataWalk, walks), total=len(walks)))"
      ]
    }
  ],
  "metadata": {
    "colab": {
      "collapsed_sections": [],
      "name": "Neighborhood_based_sameAs.ipynb",
      "provenance": [],
      "include_colab_link": true
    },
    "kernelspec": {
      "display_name": "Python 3",
      "name": "python3"
    },
    "language_info": {
      "name": "python"
    },
    "widgets": {
      "application/vnd.jupyter.widget-state+json": {
        "513cdf4992114d59b7909cc0bf5fb8f8": {
          "model_module": "@jupyter-widgets/controls",
          "model_name": "HBoxModel",
          "model_module_version": "1.5.0",
          "state": {
            "_view_name": "HBoxView",
            "_dom_classes": [],
            "_model_name": "HBoxModel",
            "_view_module": "@jupyter-widgets/controls",
            "_model_module_version": "1.5.0",
            "_view_count": null,
            "_view_module_version": "1.5.0",
            "box_style": "",
            "layout": "IPY_MODEL_b2930020b5bc4f2bb6bf3620c9240d07",
            "_model_module": "@jupyter-widgets/controls",
            "children": [
              "IPY_MODEL_560ae6cfa76241549f1610c956c521b8",
              "IPY_MODEL_0aa64d34d24641b1b65e9556d9c26e14",
              "IPY_MODEL_0f3e9fd3dcc9497baaf0d654f91ced87"
            ]
          }
        },
        "b2930020b5bc4f2bb6bf3620c9240d07": {
          "model_module": "@jupyter-widgets/base",
          "model_name": "LayoutModel",
          "model_module_version": "1.2.0",
          "state": {
            "_view_name": "LayoutView",
            "grid_template_rows": null,
            "right": null,
            "justify_content": null,
            "_view_module": "@jupyter-widgets/base",
            "overflow": null,
            "_model_module_version": "1.2.0",
            "_view_count": null,
            "flex_flow": null,
            "width": null,
            "min_width": null,
            "border": null,
            "align_items": null,
            "bottom": null,
            "_model_module": "@jupyter-widgets/base",
            "top": null,
            "grid_column": null,
            "overflow_y": null,
            "overflow_x": null,
            "grid_auto_flow": null,
            "grid_area": null,
            "grid_template_columns": null,
            "flex": null,
            "_model_name": "LayoutModel",
            "justify_items": null,
            "grid_row": null,
            "max_height": null,
            "align_content": null,
            "visibility": null,
            "align_self": null,
            "height": null,
            "min_height": null,
            "padding": null,
            "grid_auto_rows": null,
            "grid_gap": null,
            "max_width": null,
            "order": null,
            "_view_module_version": "1.2.0",
            "grid_template_areas": null,
            "object_position": null,
            "object_fit": null,
            "grid_auto_columns": null,
            "margin": null,
            "display": null,
            "left": null
          }
        },
        "560ae6cfa76241549f1610c956c521b8": {
          "model_module": "@jupyter-widgets/controls",
          "model_name": "HTMLModel",
          "model_module_version": "1.5.0",
          "state": {
            "_view_name": "HTMLView",
            "style": "IPY_MODEL_762621c5b83149ae8101e1966519e9e9",
            "_dom_classes": [],
            "description": "",
            "_model_name": "HTMLModel",
            "placeholder": "​",
            "_view_module": "@jupyter-widgets/controls",
            "_model_module_version": "1.5.0",
            "value": "  0%",
            "_view_count": null,
            "_view_module_version": "1.5.0",
            "description_tooltip": null,
            "_model_module": "@jupyter-widgets/controls",
            "layout": "IPY_MODEL_a79be27e4b19485487dd4024867fa267"
          }
        },
        "0aa64d34d24641b1b65e9556d9c26e14": {
          "model_module": "@jupyter-widgets/controls",
          "model_name": "FloatProgressModel",
          "model_module_version": "1.5.0",
          "state": {
            "_view_name": "ProgressView",
            "style": "IPY_MODEL_566ef68cf492428e9f2adb7773c93a29",
            "_dom_classes": [],
            "description": "",
            "_model_name": "FloatProgressModel",
            "bar_style": "danger",
            "max": 2501,
            "_view_module": "@jupyter-widgets/controls",
            "_model_module_version": "1.5.0",
            "value": 4,
            "_view_count": null,
            "_view_module_version": "1.5.0",
            "orientation": "horizontal",
            "min": 0,
            "description_tooltip": null,
            "_model_module": "@jupyter-widgets/controls",
            "layout": "IPY_MODEL_257050ae507e439bae2fba34e1d81ff1"
          }
        },
        "0f3e9fd3dcc9497baaf0d654f91ced87": {
          "model_module": "@jupyter-widgets/controls",
          "model_name": "HTMLModel",
          "model_module_version": "1.5.0",
          "state": {
            "_view_name": "HTMLView",
            "style": "IPY_MODEL_3d004494f76f4bf4896ba605805906c5",
            "_dom_classes": [],
            "description": "",
            "_model_name": "HTMLModel",
            "placeholder": "​",
            "_view_module": "@jupyter-widgets/controls",
            "_model_module_version": "1.5.0",
            "value": " 4/2501 [00:18&lt;4:27:55,  6.44s/it]",
            "_view_count": null,
            "_view_module_version": "1.5.0",
            "description_tooltip": null,
            "_model_module": "@jupyter-widgets/controls",
            "layout": "IPY_MODEL_118ed3947fad479190f53139e92a5423"
          }
        },
        "762621c5b83149ae8101e1966519e9e9": {
          "model_module": "@jupyter-widgets/controls",
          "model_name": "DescriptionStyleModel",
          "model_module_version": "1.5.0",
          "state": {
            "_view_name": "StyleView",
            "_model_name": "DescriptionStyleModel",
            "description_width": "",
            "_view_module": "@jupyter-widgets/base",
            "_model_module_version": "1.5.0",
            "_view_count": null,
            "_view_module_version": "1.2.0",
            "_model_module": "@jupyter-widgets/controls"
          }
        },
        "a79be27e4b19485487dd4024867fa267": {
          "model_module": "@jupyter-widgets/base",
          "model_name": "LayoutModel",
          "model_module_version": "1.2.0",
          "state": {
            "_view_name": "LayoutView",
            "grid_template_rows": null,
            "right": null,
            "justify_content": null,
            "_view_module": "@jupyter-widgets/base",
            "overflow": null,
            "_model_module_version": "1.2.0",
            "_view_count": null,
            "flex_flow": null,
            "width": null,
            "min_width": null,
            "border": null,
            "align_items": null,
            "bottom": null,
            "_model_module": "@jupyter-widgets/base",
            "top": null,
            "grid_column": null,
            "overflow_y": null,
            "overflow_x": null,
            "grid_auto_flow": null,
            "grid_area": null,
            "grid_template_columns": null,
            "flex": null,
            "_model_name": "LayoutModel",
            "justify_items": null,
            "grid_row": null,
            "max_height": null,
            "align_content": null,
            "visibility": null,
            "align_self": null,
            "height": null,
            "min_height": null,
            "padding": null,
            "grid_auto_rows": null,
            "grid_gap": null,
            "max_width": null,
            "order": null,
            "_view_module_version": "1.2.0",
            "grid_template_areas": null,
            "object_position": null,
            "object_fit": null,
            "grid_auto_columns": null,
            "margin": null,
            "display": null,
            "left": null
          }
        },
        "566ef68cf492428e9f2adb7773c93a29": {
          "model_module": "@jupyter-widgets/controls",
          "model_name": "ProgressStyleModel",
          "model_module_version": "1.5.0",
          "state": {
            "_view_name": "StyleView",
            "_model_name": "ProgressStyleModel",
            "description_width": "",
            "_view_module": "@jupyter-widgets/base",
            "_model_module_version": "1.5.0",
            "_view_count": null,
            "_view_module_version": "1.2.0",
            "bar_color": null,
            "_model_module": "@jupyter-widgets/controls"
          }
        },
        "257050ae507e439bae2fba34e1d81ff1": {
          "model_module": "@jupyter-widgets/base",
          "model_name": "LayoutModel",
          "model_module_version": "1.2.0",
          "state": {
            "_view_name": "LayoutView",
            "grid_template_rows": null,
            "right": null,
            "justify_content": null,
            "_view_module": "@jupyter-widgets/base",
            "overflow": null,
            "_model_module_version": "1.2.0",
            "_view_count": null,
            "flex_flow": null,
            "width": null,
            "min_width": null,
            "border": null,
            "align_items": null,
            "bottom": null,
            "_model_module": "@jupyter-widgets/base",
            "top": null,
            "grid_column": null,
            "overflow_y": null,
            "overflow_x": null,
            "grid_auto_flow": null,
            "grid_area": null,
            "grid_template_columns": null,
            "flex": null,
            "_model_name": "LayoutModel",
            "justify_items": null,
            "grid_row": null,
            "max_height": null,
            "align_content": null,
            "visibility": null,
            "align_self": null,
            "height": null,
            "min_height": null,
            "padding": null,
            "grid_auto_rows": null,
            "grid_gap": null,
            "max_width": null,
            "order": null,
            "_view_module_version": "1.2.0",
            "grid_template_areas": null,
            "object_position": null,
            "object_fit": null,
            "grid_auto_columns": null,
            "margin": null,
            "display": null,
            "left": null
          }
        },
        "3d004494f76f4bf4896ba605805906c5": {
          "model_module": "@jupyter-widgets/controls",
          "model_name": "DescriptionStyleModel",
          "model_module_version": "1.5.0",
          "state": {
            "_view_name": "StyleView",
            "_model_name": "DescriptionStyleModel",
            "description_width": "",
            "_view_module": "@jupyter-widgets/base",
            "_model_module_version": "1.5.0",
            "_view_count": null,
            "_view_module_version": "1.2.0",
            "_model_module": "@jupyter-widgets/controls"
          }
        },
        "118ed3947fad479190f53139e92a5423": {
          "model_module": "@jupyter-widgets/base",
          "model_name": "LayoutModel",
          "model_module_version": "1.2.0",
          "state": {
            "_view_name": "LayoutView",
            "grid_template_rows": null,
            "right": null,
            "justify_content": null,
            "_view_module": "@jupyter-widgets/base",
            "overflow": null,
            "_model_module_version": "1.2.0",
            "_view_count": null,
            "flex_flow": null,
            "width": null,
            "min_width": null,
            "border": null,
            "align_items": null,
            "bottom": null,
            "_model_module": "@jupyter-widgets/base",
            "top": null,
            "grid_column": null,
            "overflow_y": null,
            "overflow_x": null,
            "grid_auto_flow": null,
            "grid_area": null,
            "grid_template_columns": null,
            "flex": null,
            "_model_name": "LayoutModel",
            "justify_items": null,
            "grid_row": null,
            "max_height": null,
            "align_content": null,
            "visibility": null,
            "align_self": null,
            "height": null,
            "min_height": null,
            "padding": null,
            "grid_auto_rows": null,
            "grid_gap": null,
            "max_width": null,
            "order": null,
            "_view_module_version": "1.2.0",
            "grid_template_areas": null,
            "object_position": null,
            "object_fit": null,
            "grid_auto_columns": null,
            "margin": null,
            "display": null,
            "left": null
          }
        }
      }
    }
  },
  "nbformat": 4,
  "nbformat_minor": 0
}