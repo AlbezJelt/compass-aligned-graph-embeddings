{
  "cells": [
    {
      "cell_type": "markdown",
      "metadata": {
        "id": "view-in-github",
        "colab_type": "text"
      },
      "source": [
        "<a href=\"https://colab.research.google.com/github/AlbezJelt/compass-aligned-graph-embeddings/blob/main/notebooks/Neighborhood_based_sameAs.ipynb\" target=\"_parent\"><img src=\"https://colab.research.google.com/assets/colab-badge.svg\" alt=\"Open In Colab\"/></a>"
      ]
    },
    {
      "cell_type": "code",
      "execution_count": 1,
      "metadata": {
        "id": "UjWKx2luicsT"
      },
      "outputs": [],
      "source": [
        "%%capture\n",
        "!pip install rdflib sparqlwrapper"
      ]
    },
    {
      "cell_type": "code",
      "execution_count": 2,
      "metadata": {
        "id": "1AU5ZHbKpfPm"
      },
      "outputs": [],
      "source": [
        "import re\n",
        "from multiprocessing import Manager, Process\n",
        "from multiprocessing.dummy import Pool as ThreadPool\n",
        "from operator import itemgetter\n",
        "from pprint import pprint\n",
        "import time\n",
        "\n",
        "import requests\n",
        "from SPARQLWrapper import JSON, SPARQLWrapper\n",
        "from tqdm.notebook import tqdm"
      ]
    },
    {
      "cell_type": "code",
      "execution_count": null,
      "metadata": {
        "id": "uNm6X8kXrqiT"
      },
      "outputs": [],
      "source": [
        "#read dbpedia_walks_final\n",
        "with requests.get('https://raw.githubusercontent.com/AlbezJelt/compass-aligned-graph-embeddings/main/data/dbpedia_walks_final.txt') as req:\n",
        "  walks = [phrase.split(' ') for phrase in req.text.split('\\n')]"
      ]
    },
    {
      "cell_type": "code",
      "execution_count": 5,
      "metadata": {
        "id": "h7yxGS2ksEak"
      },
      "outputs": [],
      "source": [
        "manager = Manager()\n",
        "dic_dbpedia_to_wikidata = manager.dict()\n",
        "d_dbpedia_sn = manager.dict()\n",
        "d_wikidata_n = manager.dict()"
      ]
    },
    {
      "cell_type": "code",
      "source": [
        "dbpedia_sameas_neighborhood_query = re.sub(' {2,}', ' ', \"\"\"\n",
        "    SELECT DISTINCT * WHERE {{\n",
        "        {{\n",
        "            SELECT ?we WHERE {{\n",
        "                <http://dbpedia.org/resource/{entity}> ?p ?o.\n",
        "                ?o owl:sameAs ?we.\n",
        "                FILTER(CONTAINS(STR(?we), \\\"wikidata.org/entity/Q\\\"))\n",
        "            }}\n",
        "        }}\n",
        "        UNION\n",
        "        {{\n",
        "            SELECT ?we WHERE {{\n",
        "                <http://dbpedia.org/resource/{entity}> dbo:wikiPageRedirects ?r.\n",
        "                ?r ?p ?o.\n",
        "                ?o owl:sameAs ?we.\n",
        "                FILTER(CONTAINS(STR(?we), \\\"wikidata.org/entity/Q\\\"))\n",
        "            }}\n",
        "        }}\n",
        "    }}\n",
        "\"\"\")\n",
        "\n",
        "toWikidata_query = re.sub(' {2,}', ' ', \"\"\"\n",
        "    SELECT DISTINCT * WHERE {{\n",
        "        {{\n",
        "            SELECT ?o WHERE {{\n",
        "                <http://dbpedia.org/resource/{entity}> dbo:wikiPageRedirects ?r.\n",
        "                ?r owl:sameAs ?o.\n",
        "                FILTER(CONTAINS(STR(?o), \\\"wikidata.org/entity/Q\\\"))\n",
        "            }}\n",
        "        }}\n",
        "        UNION\n",
        "        {{\n",
        "            SELECT ?o WHERE {{\n",
        "                <http://dbpedia.org/resource/{entity}> owl:sameAs ?o.\n",
        "                FILTER(CONTAINS(STR(?o), \\\"wikidata.org/entity/Q\\\"))\n",
        "            }}\n",
        "        }}\n",
        "    }}\n",
        "\"\"\")\n",
        "\n",
        "wikidata_neighborhood_query = re.sub(' {2,}', ' ', \"\"\"\n",
        "    SELECT DISTINCT ?o WHERE {{\n",
        "        wd:{entity} ?p ?o.\n",
        "        FILTER(CONTAINS(STR(?o), \\\"wikidata.org/entity/Q\\\"))\n",
        "    }}\n",
        "\"\"\")\n"
      ],
      "metadata": {
        "id": "Mv9qie1rbOyq"
      },
      "execution_count": null,
      "outputs": []
    },
    {
      "cell_type": "code",
      "source": [
        "def dbpedia_sameas_neighborhood(dbpedia_entity: str):\n",
        "    if dbpedia_entity not in d_dbpedia_sn:\n",
        "        sparql = SPARQLWrapper(\"http://dbpedia.org/sparql\")\n",
        "        sparql.setQuery(dbpedia_sameas_neighborhood_query.format(entity=dbpedia_entity))\n",
        "        sparql.setReturnFormat(JSON)\n",
        "        results = sparql.query().convert()\n",
        "        d_dbpedia_sn[dbpedia_entity] = [r[\"we\"][\"value\"]\n",
        "                                        for r in results['results']['bindings']]\n",
        "    return d_dbpedia_sn[dbpedia_entity]\n"
      ],
      "metadata": {
        "id": "bQFSxzxWpybP"
      },
      "execution_count": null,
      "outputs": []
    },
    {
      "cell_type": "code",
      "source": [
        "def wikidata_neighborhood(wikidata_entity: str):\n",
        "    if wikidata_entity not in d_wikidata_n:\n",
        "        sparql = SPARQLWrapper(\"https://query.wikidata.org/sparql\")\n",
        "        sparql.agent = 'AlbezJelt ' + sparql.agent\n",
        "        sparql.setQuery(wikidata_neighborhood_query.format(entity=wikidata_entity))\n",
        "        sparql.setReturnFormat(JSON)\n",
        "        results = sparql.query().convert()\n",
        "        d_wikidata_n[wikidata_entity] = [r[\"o\"][\"value\"]\n",
        "                                         for r in results['results']['bindings']]\n",
        "    return d_wikidata_n[wikidata_entity]\n"
      ],
      "metadata": {
        "id": "lNii74IjqOj8"
      },
      "execution_count": null,
      "outputs": []
    },
    {
      "cell_type": "code",
      "source": [
        "def select_sameas(wikidata_sameas, dbpedia_entity: str) -> str:\n",
        "    # Find dpedia neighborhood\n",
        "    dbpedia_nb = set(dbpedia_sameas_neighborhood(dbpedia_entity))\n",
        "    wikidata_nbs = ((we, wikidata_neighborhood(we)) for we in wikidata_sameas)\n",
        "    matches = [(nb[0], len(set(nb[1]).intersection(dbpedia_nb)))\n",
        "               for nb in wikidata_nbs]\n",
        "    match = max(matches, key=itemgetter(1))\n",
        "    tqdm.write(\n",
        "        f\"DBpedia {dbpedia_entity}: selected {match[0]} with {match[1]} matches.\")\n",
        "    return match[0]"
      ],
      "metadata": {
        "id": "DXtQs13zmk0C"
      },
      "execution_count": null,
      "outputs": []
    },
    {
      "cell_type": "code",
      "execution_count": null,
      "metadata": {
        "id": "_amvslO4ogCQ"
      },
      "outputs": [],
      "source": [
        "def toWikidata(entity: str):\n",
        "    if entity not in dic_dbpedia_to_wikidata:\n",
        "        sparql = SPARQLWrapper(\"http://dbpedia.org/sparql\")\n",
        "        sparql.setQuery(toWikidata_query.format(entity=entity))\n",
        "        sparql.setReturnFormat(JSON)\n",
        "        results = sparql.query().convert()\n",
        "        wikidata_sameas = [x.replace(\"http://www.wikidata.org/entity/\", \"\")\n",
        "                           for x in [r[\"o\"][\"value\"] for r in results['results']['bindings']]]\n",
        "        if len(wikidata_sameas) == 0:\n",
        "            dic_dbpedia_to_wikidata[entity] = entity\n",
        "        elif len(wikidata_sameas) == 1:\n",
        "            dic_dbpedia_to_wikidata[entity] = wikidata_sameas[0]\n",
        "        else:\n",
        "            dic_dbpedia_to_wikidata[entity] = select_sameas(\n",
        "                wikidata_sameas, entity)\n",
        "    return dic_dbpedia_to_wikidata[entity]"
      ]
    },
    {
      "cell_type": "code",
      "execution_count": null,
      "metadata": {
        "id": "veen5hX-s45t"
      },
      "outputs": [],
      "source": [
        "def toWikidataWalk(walk: list):\n",
        "    wikidata_walk = [toWikidata(link) for link in walk]\n",
        "    return wikidata_walk"
      ]
    },
    {
      "cell_type": "code",
      "source": [
        "#some debug code\n",
        "walk1 = walks[slice(0,500)]\n",
        "walk2 = walks[slice(501,1000)]\n",
        "walk3 = walks[slice(1001,1500)]\n",
        "walk4 = walks[slice(1501,2000)]\n",
        "walk5 = walks[slice(2001,len(walks))]\n",
        "\n",
        "import json\n",
        "with open('dic_dbpedia_to_wikidata.json') as json_file:\n",
        "    dic_dbpedia_to_wikidata = json.load(json_file)\n"
      ],
      "metadata": {
        "id": "BWU8JmpaRjFk"
      },
      "execution_count": null,
      "outputs": []
    },
    {
      "cell_type": "code",
      "execution_count": null,
      "metadata": {
        "id": "QodSbvV5OpqS",
        "colab": {
          "base_uri": "https://localhost:8080/",
          "height": 49,
          "referenced_widgets": [
            "4e61dba9ca30411ca12867a1f5b08816",
            "df0c8b84790e42dfb2c15ebd96fafbb5",
            "13cbe4b841394c11b8d25c91ae28124e",
            "d6a272e7627548bf8e661fd988d3b9fb",
            "63971fc5dc534b6993456d2f984ed1a7",
            "a1f0066a9e5947c49440afd7b33e0fac",
            "81a8071f57ad4a6eaf8fdcf73ab89a24",
            "6f4ea1fadd5d442e9c6f8e4d7efa743b",
            "cb527d9f489242879b2af92efb76c107",
            "470800f66f1e4937af232b5282bcdf29",
            "46c0268543c64395b0aec71a78b1c4c6"
          ]
        },
        "outputId": "da7a2c59-55a9-4d6a-e398-799128d54b55"
      },
      "outputs": [
        {
          "output_type": "display_data",
          "data": {
            "application/vnd.jupyter.widget-view+json": {
              "model_id": "4e61dba9ca30411ca12867a1f5b08816",
              "version_minor": 0,
              "version_major": 2
            },
            "text/plain": [
              "  0%|          | 0/2501 [00:00<?, ?it/s]"
            ]
          },
          "metadata": {}
        }
      ],
      "source": [
        "#thread pool for extract wikidata walks from same as link of dbpedia\n",
        "with ThreadPool(4) as pool:\n",
        "    res = list(tqdm(pool.imap(toWikidataWalk, walks), total=len(walks)))"
      ]
    },
    {
      "cell_type": "code",
      "source": [
        "with open('wiki_walks_from_dbpedia.txt', 'wt') as f:\n",
        "  for w in res:\n",
        "    f.write(' '.join(w) + '\\n')"
      ],
      "metadata": {
        "id": "8iiEDfXMExGe"
      },
      "execution_count": null,
      "outputs": []
    },
    {
      "cell_type": "code",
      "source": [
        "import json\n",
        "with open(\"dic_dbpedia_to_wikidata.json\", \"w\") as outfile:\n",
        "    json.dump(dic_dbpedia_to_wikidata.copy(), outfile)\n",
        "\n",
        "import json\n",
        "with open(\"d_dbpedia_sn.json\", \"w\") as outfile:\n",
        "    json.dump(d_dbpedia_sn.copy(), outfile)\n",
        "\n",
        "import json\n",
        "with open(\"d_wikidata_n.json\", \"w\") as outfile:\n",
        "    json.dump(d_wikidata_n.copy(), outfile)"
      ],
      "metadata": {
        "id": "-ZyuiRg7E7UJ"
      },
      "execution_count": null,
      "outputs": []
    },
    {
      "cell_type": "code",
      "source": [
        "#compass.txt for creation of a dictionary that maps wikidata entity in their label\n",
        "!wget https://raw.githubusercontent.com/AlbezJelt/compass-aligned-graph-embeddings/main/data/wiki_walks_from_dbpedia.txt\n",
        "!wget https://raw.githubusercontent.com/AlbezJelt/compass-aligned-graph-embeddings/main/data/wikidata_walks_final.txt\n",
        "!cat wiki_walks_from_dbpedia.txt wikidata_walks_final.txt >> compass.txt"
      ],
      "metadata": {
        "id": "HCm1cM09XhCS",
        "outputId": "d560d58b-966e-410f-de87-6c060567eadf",
        "colab": {
          "base_uri": "https://localhost:8080/"
        }
      },
      "execution_count": 3,
      "outputs": [
        {
          "output_type": "stream",
          "name": "stdout",
          "text": [
            "--2022-02-15 13:48:27--  https://raw.githubusercontent.com/AlbezJelt/compass-aligned-graph-embeddings/main/data/wiki_walks_from_dbpedia.txt\n",
            "Resolving raw.githubusercontent.com (raw.githubusercontent.com)... 185.199.108.133, 185.199.109.133, 185.199.110.133, ...\n",
            "Connecting to raw.githubusercontent.com (raw.githubusercontent.com)|185.199.108.133|:443... connected.\n",
            "HTTP request sent, awaiting response... 200 OK\n",
            "Length: 380154 (371K) [text/plain]\n",
            "Saving to: ‘wiki_walks_from_dbpedia.txt’\n",
            "\n",
            "\r          wiki_walk   0%[                    ]       0  --.-KB/s               \rwiki_walks_from_dbp 100%[===================>] 371.24K  --.-KB/s    in 0.005s  \n",
            "\n",
            "2022-02-15 13:48:27 (66.9 MB/s) - ‘wiki_walks_from_dbpedia.txt’ saved [380154/380154]\n",
            "\n",
            "--2022-02-15 13:48:27--  https://raw.githubusercontent.com/AlbezJelt/compass-aligned-graph-embeddings/main/data/wikidata_walks_final.txt\n",
            "Resolving raw.githubusercontent.com (raw.githubusercontent.com)... 185.199.108.133, 185.199.109.133, 185.199.110.133, ...\n",
            "Connecting to raw.githubusercontent.com (raw.githubusercontent.com)|185.199.108.133|:443... connected.\n",
            "HTTP request sent, awaiting response... 200 OK\n",
            "Length: 456262 (446K) [text/plain]\n",
            "Saving to: ‘wikidata_walks_final.txt’\n",
            "\n",
            "wikidata_walks_fina 100%[===================>] 445.57K  --.-KB/s    in 0.02s   \n",
            "\n",
            "2022-02-15 13:48:27 (18.4 MB/s) - ‘wikidata_walks_final.txt’ saved [456262/456262]\n",
            "\n"
          ]
        }
      ]
    },
    {
      "cell_type": "code",
      "source": [
        "#read compass and transform in a set with elements with no duplicates\n",
        "with open('compass.txt', 'rt') as f:\n",
        "  corpus = map(lambda x: x.replace('\\n', ''), f.readlines())\n",
        "  walks = map(lambda x: x.split(' '), corpus)\n",
        "  entities = (entity for walk in walks for entity in walk)\n",
        "  entities = set(entities)\n",
        "\n",
        "#create dictionary for labels\n",
        "dic_wikidata_labels = manager.dict()"
      ],
      "metadata": {
        "id": "NfQyijAXXkH-"
      },
      "execution_count": 6,
      "outputs": []
    },
    {
      "cell_type": "code",
      "source": [
        "#function that extract labels from set of wikidata elements\n",
        "#elements with no label have '*NOLABEL*' as label\n",
        "import re\n",
        "def toWikidateLabel(entity: str):\n",
        "  if not re.match(\"^Q\\d+$\", entity):\n",
        "    return entity, entity\n",
        "  else:\n",
        "    sparql = SPARQLWrapper(\"https://query.wikidata.org/sparql\")\n",
        "    sparql.agent = 'AlbezJelt ' + sparql.agent\n",
        "    sparql.setQuery(f\"\"\"\n",
        "        SELECT ?l WHERE {{\n",
        "          wd:{entity} rdfs:label ?l.\n",
        "          FILTER(LANGMATCHES(LANG(?l), \"EN\"))\n",
        "          }}\n",
        "        LIMIT 1\n",
        "        \"\"\")\n",
        "    sparql.setReturnFormat(JSON)\n",
        "    results = sparql.query().convert()\n",
        "    label = [r[\"l\"][\"value\"] for r in results['results']['bindings']]\n",
        "    label = label[0] if len(label) > 0 else entity\n",
        "    return entity, label"
      ],
      "metadata": {
        "id": "HiAMrLnOXvwh"
      },
      "execution_count": 7,
      "outputs": []
    },
    {
      "cell_type": "code",
      "source": [
        "#thread pool for extract labels from wikidata entity\n",
        "with ThreadPool(4) as pool:\n",
        " dic_wikidata_labels = {entity : label for (entity, label) in tqdm(pool.imap(toWikidateLabel, entities), total=len(entities))}\n",
        "\n",
        "#save dictionary in json\n",
        "with open('wikidata_label_dictionary.json', 'wt') as f:\n",
        "  json.dump(dic_wikidata_labels, f)"
      ],
      "metadata": {
        "id": "Ore8hBUZX5NE",
        "outputId": "8533d0e1-4aa1-4a63-d805-ac4ecb0837cc",
        "colab": {
          "base_uri": "https://localhost:8080/",
          "height": 240,
          "referenced_widgets": [
            "b88c5fa0e955416a8df7d0929e54d005",
            "b3111f8cdd00419db4d6413d7670637f",
            "125bc55f80e74e3aa0524d81ca75d361",
            "b771fccac56d4c0193fb4ba6033f9cd4",
            "335861fa56f54d66a0cde4335b50f1bb",
            "39400d06f9f14066a8f3c0b8e31a544b",
            "bec55daa08644599b50b477d96d93917",
            "8704ade45dc343c88518b46239ee4013",
            "7d1f9fc9eaa14020b10e80835eb1c9f2",
            "93291d2ca3ab4446ac870fe39c26cee7",
            "ed30f9efdd624f1a8fd7a3dfcfddc02b"
          ]
        }
      },
      "execution_count": 8,
      "outputs": [
        {
          "output_type": "display_data",
          "data": {
            "application/vnd.jupyter.widget-view+json": {
              "model_id": "b88c5fa0e955416a8df7d0929e54d005",
              "version_minor": 0,
              "version_major": 2
            },
            "text/plain": [
              "  0%|          | 0/15559 [00:00<?, ?it/s]"
            ]
          },
          "metadata": {}
        },
        {
          "output_type": "error",
          "ename": "NameError",
          "evalue": "ignored",
          "traceback": [
            "\u001b[0;31m---------------------------------------------------------------------------\u001b[0m",
            "\u001b[0;31mNameError\u001b[0m                                 Traceback (most recent call last)",
            "\u001b[0;32m<ipython-input-8-ef956ef39ddd>\u001b[0m in \u001b[0;36m<module>\u001b[0;34m()\u001b[0m\n\u001b[1;32m      5\u001b[0m \u001b[0;31m#save dictionary in json\u001b[0m\u001b[0;34m\u001b[0m\u001b[0;34m\u001b[0m\u001b[0;34m\u001b[0m\u001b[0m\n\u001b[1;32m      6\u001b[0m \u001b[0;32mwith\u001b[0m \u001b[0mopen\u001b[0m\u001b[0;34m(\u001b[0m\u001b[0;34m'wikidata_label_dictionary.json'\u001b[0m\u001b[0;34m,\u001b[0m \u001b[0;34m'wt'\u001b[0m\u001b[0;34m)\u001b[0m \u001b[0;32mas\u001b[0m \u001b[0mf\u001b[0m\u001b[0;34m:\u001b[0m\u001b[0;34m\u001b[0m\u001b[0;34m\u001b[0m\u001b[0m\n\u001b[0;32m----> 7\u001b[0;31m   \u001b[0mjson\u001b[0m\u001b[0;34m.\u001b[0m\u001b[0mdump\u001b[0m\u001b[0;34m(\u001b[0m\u001b[0mdic_wikidata_labels\u001b[0m\u001b[0;34m,\u001b[0m \u001b[0mf\u001b[0m\u001b[0;34m)\u001b[0m\u001b[0;34m\u001b[0m\u001b[0;34m\u001b[0m\u001b[0m\n\u001b[0m",
            "\u001b[0;31mNameError\u001b[0m: name 'json' is not defined"
          ]
        }
      ]
    }
  ],
  "metadata": {
    "colab": {
      "collapsed_sections": [],
      "name": "Neighborhood_based_sameAs.ipynb",
      "provenance": [],
      "include_colab_link": true
    },
    "kernelspec": {
      "display_name": "Python 3",
      "name": "python3"
    },
    "language_info": {
      "name": "python"
    },
    "widgets": {
      "application/vnd.jupyter.widget-state+json": {
        "4e61dba9ca30411ca12867a1f5b08816": {
          "model_module": "@jupyter-widgets/controls",
          "model_name": "HBoxModel",
          "model_module_version": "1.5.0",
          "state": {
            "_view_name": "HBoxView",
            "_dom_classes": [],
            "_model_name": "HBoxModel",
            "_view_module": "@jupyter-widgets/controls",
            "_model_module_version": "1.5.0",
            "_view_count": null,
            "_view_module_version": "1.5.0",
            "box_style": "",
            "layout": "IPY_MODEL_df0c8b84790e42dfb2c15ebd96fafbb5",
            "_model_module": "@jupyter-widgets/controls",
            "children": [
              "IPY_MODEL_13cbe4b841394c11b8d25c91ae28124e",
              "IPY_MODEL_d6a272e7627548bf8e661fd988d3b9fb",
              "IPY_MODEL_63971fc5dc534b6993456d2f984ed1a7"
            ]
          }
        },
        "df0c8b84790e42dfb2c15ebd96fafbb5": {
          "model_module": "@jupyter-widgets/base",
          "model_name": "LayoutModel",
          "model_module_version": "1.2.0",
          "state": {
            "_view_name": "LayoutView",
            "grid_template_rows": null,
            "right": null,
            "justify_content": null,
            "_view_module": "@jupyter-widgets/base",
            "overflow": null,
            "_model_module_version": "1.2.0",
            "_view_count": null,
            "flex_flow": null,
            "width": null,
            "min_width": null,
            "border": null,
            "align_items": null,
            "bottom": null,
            "_model_module": "@jupyter-widgets/base",
            "top": null,
            "grid_column": null,
            "overflow_y": null,
            "overflow_x": null,
            "grid_auto_flow": null,
            "grid_area": null,
            "grid_template_columns": null,
            "flex": null,
            "_model_name": "LayoutModel",
            "justify_items": null,
            "grid_row": null,
            "max_height": null,
            "align_content": null,
            "visibility": null,
            "align_self": null,
            "height": null,
            "min_height": null,
            "padding": null,
            "grid_auto_rows": null,
            "grid_gap": null,
            "max_width": null,
            "order": null,
            "_view_module_version": "1.2.0",
            "grid_template_areas": null,
            "object_position": null,
            "object_fit": null,
            "grid_auto_columns": null,
            "margin": null,
            "display": null,
            "left": null
          }
        },
        "13cbe4b841394c11b8d25c91ae28124e": {
          "model_module": "@jupyter-widgets/controls",
          "model_name": "HTMLModel",
          "model_module_version": "1.5.0",
          "state": {
            "_view_name": "HTMLView",
            "style": "IPY_MODEL_a1f0066a9e5947c49440afd7b33e0fac",
            "_dom_classes": [],
            "description": "",
            "_model_name": "HTMLModel",
            "placeholder": "​",
            "_view_module": "@jupyter-widgets/controls",
            "_model_module_version": "1.5.0",
            "value": "100%",
            "_view_count": null,
            "_view_module_version": "1.5.0",
            "description_tooltip": null,
            "_model_module": "@jupyter-widgets/controls",
            "layout": "IPY_MODEL_81a8071f57ad4a6eaf8fdcf73ab89a24"
          }
        },
        "d6a272e7627548bf8e661fd988d3b9fb": {
          "model_module": "@jupyter-widgets/controls",
          "model_name": "FloatProgressModel",
          "model_module_version": "1.5.0",
          "state": {
            "_view_name": "ProgressView",
            "style": "IPY_MODEL_6f4ea1fadd5d442e9c6f8e4d7efa743b",
            "_dom_classes": [],
            "description": "",
            "_model_name": "FloatProgressModel",
            "bar_style": "success",
            "max": 2501,
            "_view_module": "@jupyter-widgets/controls",
            "_model_module_version": "1.5.0",
            "value": 2501,
            "_view_count": null,
            "_view_module_version": "1.5.0",
            "orientation": "horizontal",
            "min": 0,
            "description_tooltip": null,
            "_model_module": "@jupyter-widgets/controls",
            "layout": "IPY_MODEL_cb527d9f489242879b2af92efb76c107"
          }
        },
        "63971fc5dc534b6993456d2f984ed1a7": {
          "model_module": "@jupyter-widgets/controls",
          "model_name": "HTMLModel",
          "model_module_version": "1.5.0",
          "state": {
            "_view_name": "HTMLView",
            "style": "IPY_MODEL_470800f66f1e4937af232b5282bcdf29",
            "_dom_classes": [],
            "description": "",
            "_model_name": "HTMLModel",
            "placeholder": "​",
            "_view_module": "@jupyter-widgets/controls",
            "_model_module_version": "1.5.0",
            "value": " 2501/2501 [00:00&lt;00:00, 35981.43it/s]",
            "_view_count": null,
            "_view_module_version": "1.5.0",
            "description_tooltip": null,
            "_model_module": "@jupyter-widgets/controls",
            "layout": "IPY_MODEL_46c0268543c64395b0aec71a78b1c4c6"
          }
        },
        "a1f0066a9e5947c49440afd7b33e0fac": {
          "model_module": "@jupyter-widgets/controls",
          "model_name": "DescriptionStyleModel",
          "model_module_version": "1.5.0",
          "state": {
            "_view_name": "StyleView",
            "_model_name": "DescriptionStyleModel",
            "description_width": "",
            "_view_module": "@jupyter-widgets/base",
            "_model_module_version": "1.5.0",
            "_view_count": null,
            "_view_module_version": "1.2.0",
            "_model_module": "@jupyter-widgets/controls"
          }
        },
        "81a8071f57ad4a6eaf8fdcf73ab89a24": {
          "model_module": "@jupyter-widgets/base",
          "model_name": "LayoutModel",
          "model_module_version": "1.2.0",
          "state": {
            "_view_name": "LayoutView",
            "grid_template_rows": null,
            "right": null,
            "justify_content": null,
            "_view_module": "@jupyter-widgets/base",
            "overflow": null,
            "_model_module_version": "1.2.0",
            "_view_count": null,
            "flex_flow": null,
            "width": null,
            "min_width": null,
            "border": null,
            "align_items": null,
            "bottom": null,
            "_model_module": "@jupyter-widgets/base",
            "top": null,
            "grid_column": null,
            "overflow_y": null,
            "overflow_x": null,
            "grid_auto_flow": null,
            "grid_area": null,
            "grid_template_columns": null,
            "flex": null,
            "_model_name": "LayoutModel",
            "justify_items": null,
            "grid_row": null,
            "max_height": null,
            "align_content": null,
            "visibility": null,
            "align_self": null,
            "height": null,
            "min_height": null,
            "padding": null,
            "grid_auto_rows": null,
            "grid_gap": null,
            "max_width": null,
            "order": null,
            "_view_module_version": "1.2.0",
            "grid_template_areas": null,
            "object_position": null,
            "object_fit": null,
            "grid_auto_columns": null,
            "margin": null,
            "display": null,
            "left": null
          }
        },
        "6f4ea1fadd5d442e9c6f8e4d7efa743b": {
          "model_module": "@jupyter-widgets/controls",
          "model_name": "ProgressStyleModel",
          "model_module_version": "1.5.0",
          "state": {
            "_view_name": "StyleView",
            "_model_name": "ProgressStyleModel",
            "description_width": "",
            "_view_module": "@jupyter-widgets/base",
            "_model_module_version": "1.5.0",
            "_view_count": null,
            "_view_module_version": "1.2.0",
            "bar_color": null,
            "_model_module": "@jupyter-widgets/controls"
          }
        },
        "cb527d9f489242879b2af92efb76c107": {
          "model_module": "@jupyter-widgets/base",
          "model_name": "LayoutModel",
          "model_module_version": "1.2.0",
          "state": {
            "_view_name": "LayoutView",
            "grid_template_rows": null,
            "right": null,
            "justify_content": null,
            "_view_module": "@jupyter-widgets/base",
            "overflow": null,
            "_model_module_version": "1.2.0",
            "_view_count": null,
            "flex_flow": null,
            "width": null,
            "min_width": null,
            "border": null,
            "align_items": null,
            "bottom": null,
            "_model_module": "@jupyter-widgets/base",
            "top": null,
            "grid_column": null,
            "overflow_y": null,
            "overflow_x": null,
            "grid_auto_flow": null,
            "grid_area": null,
            "grid_template_columns": null,
            "flex": null,
            "_model_name": "LayoutModel",
            "justify_items": null,
            "grid_row": null,
            "max_height": null,
            "align_content": null,
            "visibility": null,
            "align_self": null,
            "height": null,
            "min_height": null,
            "padding": null,
            "grid_auto_rows": null,
            "grid_gap": null,
            "max_width": null,
            "order": null,
            "_view_module_version": "1.2.0",
            "grid_template_areas": null,
            "object_position": null,
            "object_fit": null,
            "grid_auto_columns": null,
            "margin": null,
            "display": null,
            "left": null
          }
        },
        "470800f66f1e4937af232b5282bcdf29": {
          "model_module": "@jupyter-widgets/controls",
          "model_name": "DescriptionStyleModel",
          "model_module_version": "1.5.0",
          "state": {
            "_view_name": "StyleView",
            "_model_name": "DescriptionStyleModel",
            "description_width": "",
            "_view_module": "@jupyter-widgets/base",
            "_model_module_version": "1.5.0",
            "_view_count": null,
            "_view_module_version": "1.2.0",
            "_model_module": "@jupyter-widgets/controls"
          }
        },
        "46c0268543c64395b0aec71a78b1c4c6": {
          "model_module": "@jupyter-widgets/base",
          "model_name": "LayoutModel",
          "model_module_version": "1.2.0",
          "state": {
            "_view_name": "LayoutView",
            "grid_template_rows": null,
            "right": null,
            "justify_content": null,
            "_view_module": "@jupyter-widgets/base",
            "overflow": null,
            "_model_module_version": "1.2.0",
            "_view_count": null,
            "flex_flow": null,
            "width": null,
            "min_width": null,
            "border": null,
            "align_items": null,
            "bottom": null,
            "_model_module": "@jupyter-widgets/base",
            "top": null,
            "grid_column": null,
            "overflow_y": null,
            "overflow_x": null,
            "grid_auto_flow": null,
            "grid_area": null,
            "grid_template_columns": null,
            "flex": null,
            "_model_name": "LayoutModel",
            "justify_items": null,
            "grid_row": null,
            "max_height": null,
            "align_content": null,
            "visibility": null,
            "align_self": null,
            "height": null,
            "min_height": null,
            "padding": null,
            "grid_auto_rows": null,
            "grid_gap": null,
            "max_width": null,
            "order": null,
            "_view_module_version": "1.2.0",
            "grid_template_areas": null,
            "object_position": null,
            "object_fit": null,
            "grid_auto_columns": null,
            "margin": null,
            "display": null,
            "left": null
          }
        },
        "b88c5fa0e955416a8df7d0929e54d005": {
          "model_module": "@jupyter-widgets/controls",
          "model_name": "HBoxModel",
          "model_module_version": "1.5.0",
          "state": {
            "_view_name": "HBoxView",
            "_dom_classes": [],
            "_model_name": "HBoxModel",
            "_view_module": "@jupyter-widgets/controls",
            "_model_module_version": "1.5.0",
            "_view_count": null,
            "_view_module_version": "1.5.0",
            "box_style": "",
            "layout": "IPY_MODEL_b3111f8cdd00419db4d6413d7670637f",
            "_model_module": "@jupyter-widgets/controls",
            "children": [
              "IPY_MODEL_125bc55f80e74e3aa0524d81ca75d361",
              "IPY_MODEL_b771fccac56d4c0193fb4ba6033f9cd4",
              "IPY_MODEL_335861fa56f54d66a0cde4335b50f1bb"
            ]
          }
        },
        "b3111f8cdd00419db4d6413d7670637f": {
          "model_module": "@jupyter-widgets/base",
          "model_name": "LayoutModel",
          "model_module_version": "1.2.0",
          "state": {
            "_view_name": "LayoutView",
            "grid_template_rows": null,
            "right": null,
            "justify_content": null,
            "_view_module": "@jupyter-widgets/base",
            "overflow": null,
            "_model_module_version": "1.2.0",
            "_view_count": null,
            "flex_flow": null,
            "width": null,
            "min_width": null,
            "border": null,
            "align_items": null,
            "bottom": null,
            "_model_module": "@jupyter-widgets/base",
            "top": null,
            "grid_column": null,
            "overflow_y": null,
            "overflow_x": null,
            "grid_auto_flow": null,
            "grid_area": null,
            "grid_template_columns": null,
            "flex": null,
            "_model_name": "LayoutModel",
            "justify_items": null,
            "grid_row": null,
            "max_height": null,
            "align_content": null,
            "visibility": null,
            "align_self": null,
            "height": null,
            "min_height": null,
            "padding": null,
            "grid_auto_rows": null,
            "grid_gap": null,
            "max_width": null,
            "order": null,
            "_view_module_version": "1.2.0",
            "grid_template_areas": null,
            "object_position": null,
            "object_fit": null,
            "grid_auto_columns": null,
            "margin": null,
            "display": null,
            "left": null
          }
        },
        "125bc55f80e74e3aa0524d81ca75d361": {
          "model_module": "@jupyter-widgets/controls",
          "model_name": "HTMLModel",
          "model_module_version": "1.5.0",
          "state": {
            "_view_name": "HTMLView",
            "style": "IPY_MODEL_39400d06f9f14066a8f3c0b8e31a544b",
            "_dom_classes": [],
            "description": "",
            "_model_name": "HTMLModel",
            "placeholder": "​",
            "_view_module": "@jupyter-widgets/controls",
            "_model_module_version": "1.5.0",
            "value": "100%",
            "_view_count": null,
            "_view_module_version": "1.5.0",
            "description_tooltip": null,
            "_model_module": "@jupyter-widgets/controls",
            "layout": "IPY_MODEL_bec55daa08644599b50b477d96d93917"
          }
        },
        "b771fccac56d4c0193fb4ba6033f9cd4": {
          "model_module": "@jupyter-widgets/controls",
          "model_name": "FloatProgressModel",
          "model_module_version": "1.5.0",
          "state": {
            "_view_name": "ProgressView",
            "style": "IPY_MODEL_8704ade45dc343c88518b46239ee4013",
            "_dom_classes": [],
            "description": "",
            "_model_name": "FloatProgressModel",
            "bar_style": "success",
            "max": 15559,
            "_view_module": "@jupyter-widgets/controls",
            "_model_module_version": "1.5.0",
            "value": 15559,
            "_view_count": null,
            "_view_module_version": "1.5.0",
            "orientation": "horizontal",
            "min": 0,
            "description_tooltip": null,
            "_model_module": "@jupyter-widgets/controls",
            "layout": "IPY_MODEL_7d1f9fc9eaa14020b10e80835eb1c9f2"
          }
        },
        "335861fa56f54d66a0cde4335b50f1bb": {
          "model_module": "@jupyter-widgets/controls",
          "model_name": "HTMLModel",
          "model_module_version": "1.5.0",
          "state": {
            "_view_name": "HTMLView",
            "style": "IPY_MODEL_93291d2ca3ab4446ac870fe39c26cee7",
            "_dom_classes": [],
            "description": "",
            "_model_name": "HTMLModel",
            "placeholder": "​",
            "_view_module": "@jupyter-widgets/controls",
            "_model_module_version": "1.5.0",
            "value": " 15559/15559 [03:13&lt;00:00, 47.47it/s]",
            "_view_count": null,
            "_view_module_version": "1.5.0",
            "description_tooltip": null,
            "_model_module": "@jupyter-widgets/controls",
            "layout": "IPY_MODEL_ed30f9efdd624f1a8fd7a3dfcfddc02b"
          }
        },
        "39400d06f9f14066a8f3c0b8e31a544b": {
          "model_module": "@jupyter-widgets/controls",
          "model_name": "DescriptionStyleModel",
          "model_module_version": "1.5.0",
          "state": {
            "_view_name": "StyleView",
            "_model_name": "DescriptionStyleModel",
            "description_width": "",
            "_view_module": "@jupyter-widgets/base",
            "_model_module_version": "1.5.0",
            "_view_count": null,
            "_view_module_version": "1.2.0",
            "_model_module": "@jupyter-widgets/controls"
          }
        },
        "bec55daa08644599b50b477d96d93917": {
          "model_module": "@jupyter-widgets/base",
          "model_name": "LayoutModel",
          "model_module_version": "1.2.0",
          "state": {
            "_view_name": "LayoutView",
            "grid_template_rows": null,
            "right": null,
            "justify_content": null,
            "_view_module": "@jupyter-widgets/base",
            "overflow": null,
            "_model_module_version": "1.2.0",
            "_view_count": null,
            "flex_flow": null,
            "width": null,
            "min_width": null,
            "border": null,
            "align_items": null,
            "bottom": null,
            "_model_module": "@jupyter-widgets/base",
            "top": null,
            "grid_column": null,
            "overflow_y": null,
            "overflow_x": null,
            "grid_auto_flow": null,
            "grid_area": null,
            "grid_template_columns": null,
            "flex": null,
            "_model_name": "LayoutModel",
            "justify_items": null,
            "grid_row": null,
            "max_height": null,
            "align_content": null,
            "visibility": null,
            "align_self": null,
            "height": null,
            "min_height": null,
            "padding": null,
            "grid_auto_rows": null,
            "grid_gap": null,
            "max_width": null,
            "order": null,
            "_view_module_version": "1.2.0",
            "grid_template_areas": null,
            "object_position": null,
            "object_fit": null,
            "grid_auto_columns": null,
            "margin": null,
            "display": null,
            "left": null
          }
        },
        "8704ade45dc343c88518b46239ee4013": {
          "model_module": "@jupyter-widgets/controls",
          "model_name": "ProgressStyleModel",
          "model_module_version": "1.5.0",
          "state": {
            "_view_name": "StyleView",
            "_model_name": "ProgressStyleModel",
            "description_width": "",
            "_view_module": "@jupyter-widgets/base",
            "_model_module_version": "1.5.0",
            "_view_count": null,
            "_view_module_version": "1.2.0",
            "bar_color": null,
            "_model_module": "@jupyter-widgets/controls"
          }
        },
        "7d1f9fc9eaa14020b10e80835eb1c9f2": {
          "model_module": "@jupyter-widgets/base",
          "model_name": "LayoutModel",
          "model_module_version": "1.2.0",
          "state": {
            "_view_name": "LayoutView",
            "grid_template_rows": null,
            "right": null,
            "justify_content": null,
            "_view_module": "@jupyter-widgets/base",
            "overflow": null,
            "_model_module_version": "1.2.0",
            "_view_count": null,
            "flex_flow": null,
            "width": null,
            "min_width": null,
            "border": null,
            "align_items": null,
            "bottom": null,
            "_model_module": "@jupyter-widgets/base",
            "top": null,
            "grid_column": null,
            "overflow_y": null,
            "overflow_x": null,
            "grid_auto_flow": null,
            "grid_area": null,
            "grid_template_columns": null,
            "flex": null,
            "_model_name": "LayoutModel",
            "justify_items": null,
            "grid_row": null,
            "max_height": null,
            "align_content": null,
            "visibility": null,
            "align_self": null,
            "height": null,
            "min_height": null,
            "padding": null,
            "grid_auto_rows": null,
            "grid_gap": null,
            "max_width": null,
            "order": null,
            "_view_module_version": "1.2.0",
            "grid_template_areas": null,
            "object_position": null,
            "object_fit": null,
            "grid_auto_columns": null,
            "margin": null,
            "display": null,
            "left": null
          }
        },
        "93291d2ca3ab4446ac870fe39c26cee7": {
          "model_module": "@jupyter-widgets/controls",
          "model_name": "DescriptionStyleModel",
          "model_module_version": "1.5.0",
          "state": {
            "_view_name": "StyleView",
            "_model_name": "DescriptionStyleModel",
            "description_width": "",
            "_view_module": "@jupyter-widgets/base",
            "_model_module_version": "1.5.0",
            "_view_count": null,
            "_view_module_version": "1.2.0",
            "_model_module": "@jupyter-widgets/controls"
          }
        },
        "ed30f9efdd624f1a8fd7a3dfcfddc02b": {
          "model_module": "@jupyter-widgets/base",
          "model_name": "LayoutModel",
          "model_module_version": "1.2.0",
          "state": {
            "_view_name": "LayoutView",
            "grid_template_rows": null,
            "right": null,
            "justify_content": null,
            "_view_module": "@jupyter-widgets/base",
            "overflow": null,
            "_model_module_version": "1.2.0",
            "_view_count": null,
            "flex_flow": null,
            "width": null,
            "min_width": null,
            "border": null,
            "align_items": null,
            "bottom": null,
            "_model_module": "@jupyter-widgets/base",
            "top": null,
            "grid_column": null,
            "overflow_y": null,
            "overflow_x": null,
            "grid_auto_flow": null,
            "grid_area": null,
            "grid_template_columns": null,
            "flex": null,
            "_model_name": "LayoutModel",
            "justify_items": null,
            "grid_row": null,
            "max_height": null,
            "align_content": null,
            "visibility": null,
            "align_self": null,
            "height": null,
            "min_height": null,
            "padding": null,
            "grid_auto_rows": null,
            "grid_gap": null,
            "max_width": null,
            "order": null,
            "_view_module_version": "1.2.0",
            "grid_template_areas": null,
            "object_position": null,
            "object_fit": null,
            "grid_auto_columns": null,
            "margin": null,
            "display": null,
            "left": null
          }
        }
      }
    }
  },
  "nbformat": 4,
  "nbformat_minor": 0
}